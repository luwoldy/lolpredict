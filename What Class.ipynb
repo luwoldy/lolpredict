{
 "cells": [
  {
   "cell_type": "code",
   "execution_count": 11,
   "metadata": {},
   "outputs": [],
   "source": [
    "# import all dependencies\n",
    "\n",
    "import matplotlib.pyplot as plt\n",
    "from sklearn.model_selection import train_test_split\n",
    "from sklearn.neighbors import KNeighborsClassifier\n",
    "from sklearn.ensemble import RandomForestClassifier\n",
    "from sklearn.ensemble import ExtraTreesClassifier\n",
    "import numpy as np\n",
    "import pandas as pd\n",
    "import pickle"
   ]
  },
  {
   "cell_type": "code",
   "execution_count": 12,
   "metadata": {},
   "outputs": [],
   "source": [
    "\n",
    "  \n",
    "# Open the model \n",
    "\n",
    "pkl_filename = 'rfpickledModel.pkl'\n",
    "with open(pkl_filename, 'rb') as file:  \n",
    "    pickle_model = pickle.load(file)"
   ]
  },
  {
   "cell_type": "code",
   "execution_count": 18,
   "metadata": {},
   "outputs": [],
   "source": [
    "# use the userdata to classify\n",
    "\n",
    "\n",
    "# player = #userinput\n",
    "# playerdata = getPlayerdata(player)\n",
    "# API call to user, put into the list -- will crib from Leul's \n",
    "# we need the following, in this order: \n",
    "# leaguePoints\twins\tlosses\tveteran\tinactive\thotStreak\tfreshBlood\n",
    "\n",
    "\n",
    "url = \"final.csv\"\n",
    "df = pd.read_csv(url)\n",
    "df = df.drop(\"highest_tier\", axis=1)\n",
    "df.fillna(0, inplace=True)\n",
    "df.head()\n",
    "\n",
    "temp=[]\n",
    "\n",
    "for row in df.iterrows():\n",
    "    index, data = row\n",
    "    temp.append(data.tolist())"
   ]
  },
  {
   "cell_type": "code",
   "execution_count": 19,
   "metadata": {},
   "outputs": [
    {
     "data": {
      "text/plain": [
       "array([[2.0000e+00, 1.5000e+01, 5.5000e+00, 0.0000e+00, 0.0000e+00,\n",
       "        8.1000e+00, 0.0000e+00, 0.0000e+00, 0.0000e+00, 0.0000e+00,\n",
       "        1.4900e+04, 1.8618e+04, 1.0000e+00, 0.0000e+00, 0.0000e+00,\n",
       "        0.0000e+00, 0.0000e+00, 3.3960e+02, 0.0000e+00, 0.0000e+00,\n",
       "        5.0280e+02, 0.0000e+00, 1.3199e+04, 1.1883e+04, 3.7410e+02,\n",
       "        0.0000e+00, 4.8570e+02, 0.0000e+00, 0.0000e+00, 7.0000e+00,\n",
       "        1.0000e+00, 9.0000e+00, 9.0000e+00, 1.0000e+00, 1.5520e+03,\n",
       "        0.0000e+00, 0.0000e+00, 1.4000e+01, 1.7944e+04, 1.9578e+04,\n",
       "        9.9220e+03, 1.7800e+02, 3.2600e+02, 1.0000e+00, 0.0000e+00,\n",
       "        4.0000e+00, 0.0000e+00, 1.8000e+01, 1.0000e+00, 9.0000e+00,\n",
       "        0.0000e+00, 4.4760e+02, 0.0000e+00, 0.0000e+00, 5.9260e+02,\n",
       "        0.0000e+00, 0.0000e+00, 0.0000e+00, 0.0000e+00]])"
      ]
     },
     "execution_count": 19,
     "metadata": {},
     "output_type": "execute_result"
    }
   ],
   "source": [
    "\n",
    "from numpy import array\n",
    "\n",
    "a = temp[6]\n",
    "\n",
    "a = array(a)\n",
    "\n",
    "playerdata = np.reshape(a, (1,np.product(a.shape)))\n",
    "\n",
    "playerdata"
   ]
  },
  {
   "cell_type": "code",
   "execution_count": 20,
   "metadata": {},
   "outputs": [
    {
     "name": "stdout",
     "output_type": "stream",
     "text": [
      "[5]\n"
     ]
    }
   ],
   "source": [
    "# Enter user data and classify using model\n",
    "# from sklearn.preprocessing import StandardScaler\n",
    "\n",
    "# sc = StandardScaler()  \n",
    "# playerdata = sc.transform(playerdata) \n",
    "\n",
    "# playerdata.reshape(-1, 1)\n",
    "\n",
    "\n",
    "predicted_class = pickle_model.predict(playerdata)\n",
    "print(predicted_class)\n",
    "\n",
    "\n"
   ]
  },
  {
   "cell_type": "code",
   "execution_count": null,
   "metadata": {},
   "outputs": [],
   "source": [
    "array.reshape(1, -1)"
   ]
  }
 ],
 "metadata": {
  "kernelspec": {
   "display_name": "Python 3",
   "language": "python",
   "name": "python3"
  },
  "language_info": {
   "codemirror_mode": {
    "name": "ipython",
    "version": 3
   },
   "file_extension": ".py",
   "mimetype": "text/x-python",
   "name": "python",
   "nbconvert_exporter": "python",
   "pygments_lexer": "ipython3",
   "version": "3.6.8"
  }
 },
 "nbformat": 4,
 "nbformat_minor": 2
}
