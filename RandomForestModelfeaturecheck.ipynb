{
 "cells": [
  {
   "cell_type": "code",
   "execution_count": 1,
   "metadata": {},
   "outputs": [
    {
     "name": "stderr",
     "output_type": "stream",
     "text": [
      "/Users/halmooky/anaconda3/envs/PythonData/lib/python3.6/site-packages/sklearn/ensemble/weight_boosting.py:29: DeprecationWarning: numpy.core.umath_tests is an internal NumPy module and should not be imported. It will be removed in a future NumPy release.\n",
      "  from numpy.core.umath_tests import inner1d\n"
     ]
    }
   ],
   "source": [
    "from rfpimp import *\n",
    "import pandas as pd\n",
    "from sklearn.ensemble import RandomForestClassifier\n",
    "from sklearn.ensemble import ExtraTreesClassifier\n",
    "from sklearn.model_selection import train_test_split\n",
    "\n"
   ]
  },
  {
   "cell_type": "code",
   "execution_count": 5,
   "metadata": {},
   "outputs": [
    {
     "data": {
      "text/plain": [
       "[2.0,\n",
       " 15.0,\n",
       " 5.5,\n",
       " 0.0,\n",
       " 0.0,\n",
       " 8.1,\n",
       " 0.0,\n",
       " 0.0,\n",
       " 0.0,\n",
       " 0.0,\n",
       " 14900.0,\n",
       " 18618.0,\n",
       " 1.0,\n",
       " 0.0,\n",
       " 0.0,\n",
       " 0.0,\n",
       " 0.0,\n",
       " 339.6,\n",
       " 0.0,\n",
       " 0.0,\n",
       " 502.8,\n",
       " 0.0,\n",
       " 13199.0,\n",
       " 11883.0,\n",
       " 374.1,\n",
       " 0.0,\n",
       " 485.7,\n",
       " 0.0,\n",
       " 3.0,\n",
       " 0.0,\n",
       " 7.0,\n",
       " 1.0,\n",
       " 9.0,\n",
       " 9.0,\n",
       " 1.0,\n",
       " 1552.0,\n",
       " 0.0,\n",
       " 0.0,\n",
       " 14.0,\n",
       " 17944.0,\n",
       " 19578.0,\n",
       " 9922.0,\n",
       " 178.0,\n",
       " 326.0,\n",
       " 1.0,\n",
       " 0.0,\n",
       " 4.0,\n",
       " 0.0,\n",
       " 18.0,\n",
       " 1.0,\n",
       " 9.0,\n",
       " 0.0,\n",
       " 447.6,\n",
       " 0.0,\n",
       " 0.0,\n",
       " 592.6,\n",
       " 0.0,\n",
       " 0.0,\n",
       " 0.0,\n",
       " 0.0]"
      ]
     },
     "execution_count": 5,
     "metadata": {},
     "output_type": "execute_result"
    }
   ],
   "source": [
    "# pull in the data\n",
    "\n",
    "url = \"final.csv\"\n",
    "df = pd.read_csv(url)\n",
    "df.fillna(0, inplace=True)\n",
    "df.head()\n",
    "\n"
   ]
  },
  {
   "cell_type": "code",
   "execution_count": null,
   "metadata": {},
   "outputs": [],
   "source": [
    "df.fillna(0, inplace=True)\n",
    "df.head()"
   ]
  },
  {
   "cell_type": "code",
   "execution_count": null,
   "metadata": {},
   "outputs": [],
   "source": [
    "# defining the target\n",
    "\n",
    "target = df[\"highest_tier\"]\n",
    "# target_names = "
   ]
  },
  {
   "cell_type": "code",
   "execution_count": null,
   "metadata": {
    "scrolled": true
   },
   "outputs": [],
   "source": [
    "# remove the outcomes and a couple of other unwanted variables\n",
    "\n",
    "\n",
    "\n",
    "data = df.drop(\"highest_tier\", axis=1)\n",
    "features = df.columns\n",
    "data.head()\n",
    "\n",
    "df_train, df_test = train_test_split(df, test_size=0.20)\n",
    "df_train = df_train[features]\n",
    "df_test = df_test[features]\n"
   ]
  },
  {
   "cell_type": "code",
   "execution_count": null,
   "metadata": {},
   "outputs": [],
   "source": [
    "X_train, y_train = df_train.drop('highest_tier',axis=1), df_train['highest_tier']\n",
    "X_test, y_test = df_test.drop('highest_tier',axis=1), df_test['highest_tier']\n",
    "\n"
   ]
  },
  {
   "cell_type": "code",
   "execution_count": null,
   "metadata": {},
   "outputs": [],
   "source": [
    "rf = RandomForestClassifier(n_estimators=1000, n_jobs=-1)\n",
    "rf.fit(X_train, y_train)\n",
    "\n",
    "imp = importances(rf, X_test, y_test) # permutation\n",
    "viz = plot_importances(imp)\n",
    "viz.view()\n",
    "\n"
   ]
  },
  {
   "cell_type": "code",
   "execution_count": null,
   "metadata": {},
   "outputs": [],
   "source": []
  },
  {
   "cell_type": "code",
   "execution_count": null,
   "metadata": {},
   "outputs": [],
   "source": [
    "# #Train the model using the training sets y_pred=clf.predict(X_test)\n",
    "# clf.fit(X_train,y_train)\n",
    "\n",
    "# y_pred=clf.predict(X_test)"
   ]
  },
  {
   "cell_type": "code",
   "execution_count": null,
   "metadata": {},
   "outputs": [],
   "source": [
    "# #Import scikit-learn metrics module for accuracy calculation\n",
    "# from sklearn import metrics\n",
    "# # Model Accuracy, how often is the classifier correct?\n",
    "# print(\"Accuracy:\",metrics.accuracy_score(y_test, y_pred))"
   ]
  },
  {
   "cell_type": "code",
   "execution_count": null,
   "metadata": {},
   "outputs": [],
   "source": [
    "# Loop through different k values to see which has the highest accuracy\n",
    "\n",
    "# train_scores = []\n",
    "# test_scores = []\n",
    "# differences = []\n",
    "# for k in range(1, 40, 2):\n",
    "#     knn = KNeighborsClassifier(n_neighbors=k)\n",
    "#     knn.fit(X_train, y_train)\n",
    "#     train_score = knn.score(X_train, y_train)\n",
    "#     test_score = knn.score(X_test, y_test)\n",
    "#     train_scores.append(train_score)\n",
    "#     test_scores.append(test_score)\n",
    "#     difference = knn.score(X_train, y_train) - knn.score(X_test, y_test)\n",
    "#     differences.append(difference)\n",
    "#     print(f\"k: {k}, Train/Test Score: {train_score:.3f}/{test_score:.3f}/{difference:.3f}\")\n",
    "    \n",
    "# # consistency     \n",
    "# # for x in differences:\n",
    "# #     consistent = (x + 1) - x \n",
    "    \n",
    "    \n",
    "# plt.plot(range(1, 40, 2), train_scores, marker='o')\n",
    "# plt.plot(range(1, 40, 2), test_scores, marker=\"x\")\n",
    "# plt.xlabel(\"k neighbors\")\n",
    "# plt.ylabel(\"Testing accuracy Score\")\n",
    "# plt.show()\n"
   ]
  },
  {
   "cell_type": "code",
   "execution_count": null,
   "metadata": {},
   "outputs": [],
   "source": [
    "# # Need to determine the best K for this dataset\n",
    "# chosenk = 23\n",
    "\n",
    "# knn = KNeighborsClassifier(n_neighbors=chosenk)\n",
    "# knn.fit(X_train, y_train)\n",
    "# print(f'k={chosenk} Test Acc: %.3f' % knn.score(X_test, y_test))"
   ]
  },
  {
   "cell_type": "code",
   "execution_count": null,
   "metadata": {},
   "outputs": [],
   "source": []
  },
  {
   "cell_type": "code",
   "execution_count": null,
   "metadata": {},
   "outputs": [],
   "source": [
    "# # save the model\n",
    "# import pickle \n",
    "  \n",
    "# # Save the trained model as a pickle string. \n",
    "\n",
    "# filename = 'NewpickledModel.pkl'\n",
    "# outfile = open(filename,'wb')\n",
    "# pickle.dump(knn,outfile)\n",
    "# outfile.close()\n"
   ]
  },
  {
   "cell_type": "code",
   "execution_count": null,
   "metadata": {},
   "outputs": [],
   "source": [
    "forest = ExtraTreesClassifier(n_estimators=250,\n",
    "                              random_state=0)"
   ]
  },
  {
   "cell_type": "code",
   "execution_count": null,
   "metadata": {},
   "outputs": [],
   "source": [
    "forest.fit(data, target)\n",
    "importances = forest.feature_importances_\n",
    "std = np.std([tree.feature_importances_ for tree in forest.estimators_],\n",
    "             axis=0)\n",
    "indices = np.argsort(importances)[::-1]"
   ]
  },
  {
   "cell_type": "code",
   "execution_count": null,
   "metadata": {},
   "outputs": [],
   "source": [
    "# Print the feature ranking\n",
    "print(\"Feature ranking:\")\n",
    "\n",
    "for f in range(data.shape[1]):\n",
    "    print(\"%d. feature %d (%f)\" % (f + 1, indices[f], importances[indices[f]]))"
   ]
  },
  {
   "cell_type": "code",
   "execution_count": null,
   "metadata": {},
   "outputs": [],
   "source": [
    "# Plot the feature importances of the forest\n",
    "plt.figure()\n",
    "plt.title(\"Feature importances\")\n",
    "plt.bar(range(data.shape[1]), importances[indices],\n",
    "       color=\"r\", yerr=std[indices], align=\"center\")\n",
    "plt.xticks(range(data.shape[1]), indices)\n",
    "plt.xlim([-1, data.shape[1]])\n",
    "plt.show()"
   ]
  }
 ],
 "metadata": {
  "kernelspec": {
   "display_name": "Python 3",
   "language": "python",
   "name": "python3"
  },
  "language_info": {
   "codemirror_mode": {
    "name": "ipython",
    "version": 3
   },
   "file_extension": ".py",
   "mimetype": "text/x-python",
   "name": "python",
   "nbconvert_exporter": "python",
   "pygments_lexer": "ipython3",
   "version": "3.6.8"
  }
 },
 "nbformat": 4,
 "nbformat_minor": 2
}
