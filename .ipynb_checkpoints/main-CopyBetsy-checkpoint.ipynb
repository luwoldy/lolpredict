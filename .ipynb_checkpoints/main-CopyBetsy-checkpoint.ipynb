{
 "cells": [
  {
   "cell_type": "code",
   "execution_count": 1,
   "metadata": {},
   "outputs": [],
   "source": [
    "import pandas as pd\n",
    "import requests\n",
    "import json\n",
    "import numpy as np\n",
    "api_key = \"RGAPI-b7b146a5-e1e9-4b5e-966a-4fb069217438\"\n"
   ]
  },
  {
   "cell_type": "code",
   "execution_count": 2,
   "metadata": {},
   "outputs": [
    {
     "ename": "KeyError",
     "evalue": "'accountId'",
     "output_type": "error",
     "traceback": [
      "\u001b[0;31m---------------------------------------------------------------------------\u001b[0m",
      "\u001b[0;31mKeyError\u001b[0m                                  Traceback (most recent call last)",
      "\u001b[0;32m<ipython-input-2-875f9a233ec5>\u001b[0m in \u001b[0;36m<module>\u001b[0;34m()\u001b[0m\n\u001b[1;32m      7\u001b[0m     \u001b[0msearch\u001b[0m \u001b[0;34m=\u001b[0m \u001b[0mrequests\u001b[0m\u001b[0;34m.\u001b[0m\u001b[0mget\u001b[0m\u001b[0;34m(\u001b[0m\u001b[0murl\u001b[0m\u001b[0;34m)\u001b[0m\u001b[0;34m.\u001b[0m\u001b[0mjson\u001b[0m\u001b[0;34m(\u001b[0m\u001b[0;34m)\u001b[0m\u001b[0;34m\u001b[0m\u001b[0;34m\u001b[0m\u001b[0m\n\u001b[1;32m      8\u001b[0m     \u001b[0;32mreturn\u001b[0m \u001b[0msearch\u001b[0m\u001b[0;34m\u001b[0m\u001b[0;34m\u001b[0m\u001b[0m\n\u001b[0;32m----> 9\u001b[0;31m \u001b[0macct_id\u001b[0m \u001b[0;34m=\u001b[0m \u001b[0mget_accid\u001b[0m\u001b[0;34m(\u001b[0m\u001b[0;34m\"morefiero\"\u001b[0m\u001b[0;34m)\u001b[0m\u001b[0;34m[\u001b[0m\u001b[0;34m\"accountId\"\u001b[0m\u001b[0;34m]\u001b[0m\u001b[0;34m\u001b[0m\u001b[0;34m\u001b[0m\u001b[0m\n\u001b[0m\u001b[1;32m     10\u001b[0m \u001b[0;34m\u001b[0m\u001b[0m\n\u001b[1;32m     11\u001b[0m \u001b[0;34m\u001b[0m\u001b[0m\n",
      "\u001b[0;31mKeyError\u001b[0m: 'accountId'"
     ]
    }
   ],
   "source": [
    "#To get matches we need to get the summoner ID for a player\n",
    "url = f\"https://na1.api.riotgames.com/lol/summoner/v4/summoners/by-name/doublelift?api_key={api_key}\"\n",
    "search = requests.get(url).json()\n",
    "\n",
    "def get_accid(summoner):\n",
    "    url = f\"https://na1.api.riotgames.com/lol/summoner/v4/summoners/by-name/{summoner}?api_key={api_key}\"\n",
    "    search = requests.get(url).json()\n",
    "    return search\n",
    "acct_id = get_accid(\"morefiero\")[\"accountId\"]\n",
    "\n",
    "\n",
    "get_accid(\"morefiero\")"
   ]
  },
  {
   "cell_type": "code",
   "execution_count": 21,
   "metadata": {},
   "outputs": [],
   "source": [
    "#Get matches based on the summoner id from get_accid function\n",
    "match_ids = []\n",
    "match_url = f\"https://na1.api.riotgames.com/lol/match/v4/matchlists/by-account/{acct_id}?api_key={api_key}\"\n",
    "results = requests.get(match_url).json()\n",
    "\n",
    "for result in results[\"matches\"]:\n",
    "    match_ids.append(result[\"gameId\"])\n",
    "\n",
    "\n",
    "\n",
    "match_id = f\"https://na1.api.riotgames.com/lol/match/v4/matches/{match_ids[3]}?api_key={api_key}\"\n",
    "match_result = requests.get(match_id).json()\n",
    "\n"
   ]
  },
  {
   "cell_type": "code",
   "execution_count": 22,
   "metadata": {},
   "outputs": [
    {
     "data": {
      "text/plain": [
       "[{'participantId': 1,\n",
       "  'player': {'platformId': 'NA',\n",
       "   'accountId': 'LtRE5ilPODUVotcd3hYvlCuGmG6oBuQfvNGG1ASmbzdVdw',\n",
       "   'summonerName': 'MoreFiero',\n",
       "   'summonerId': 'yj6H28V9yKYAkpfWr8K-q33HXHLpLegQbMFxi_hDTdj0WRA',\n",
       "   'currentPlatformId': 'NA1',\n",
       "   'currentAccountId': 'LtRE5ilPODUVotcd3hYvlCuGmG6oBuQfvNGG1ASmbzdVdw',\n",
       "   'matchHistoryUri': '/v1/stats/player_history/NA/39468412',\n",
       "   'profileIcon': 897}},\n",
       " {'participantId': 2,\n",
       "  'player': {'platformId': 'NA1',\n",
       "   'accountId': 'QvL6LLKfLEH32QBI7dWOH5-OARgO0bHwKkmobgCwvuWNKAo',\n",
       "   'summonerName': 'RSRX2',\n",
       "   'summonerId': 'DvDcvy2iVxxIEInIIofLdZYq3mGpmMJ8xOz50l43LRluLgI',\n",
       "   'currentPlatformId': 'NA1',\n",
       "   'currentAccountId': 'QvL6LLKfLEH32QBI7dWOH5-OARgO0bHwKkmobgCwvuWNKAo',\n",
       "   'matchHistoryUri': '/v1/stats/player_history/NA1/238077097',\n",
       "   'profileIcon': 3790}},\n",
       " {'participantId': 3,\n",
       "  'player': {'platformId': 'NA1',\n",
       "   'accountId': 'K9bVuBjDnXoC0_dDuBUr2ln4TVfSB3kPl674uqSosuj1ZLo',\n",
       "   'summonerName': 'Crytora',\n",
       "   'summonerId': 'sQEpWpFx6IYoPDFcETtu5sbmzCiCLKML1LzDz4LVMfyhDFk',\n",
       "   'currentPlatformId': 'NA1',\n",
       "   'currentAccountId': 'K9bVuBjDnXoC0_dDuBUr2ln4TVfSB3kPl674uqSosuj1ZLo',\n",
       "   'matchHistoryUri': '/v1/stats/player_history/NA1/210129166',\n",
       "   'profileIcon': 3167}},\n",
       " {'participantId': 4,\n",
       "  'player': {'platformId': 'NA1',\n",
       "   'accountId': '3TtkMyFCxAJrEPoMY3mES0-tFyzfEIlIC7sNF6CG9M_zJw',\n",
       "   'summonerName': 'Bluejerra',\n",
       "   'summonerId': '-haMLunwudeHimOKVlA6jzXnPH2aJM1IH0CVuutAiY71KdE',\n",
       "   'currentPlatformId': 'NA1',\n",
       "   'currentAccountId': '3TtkMyFCxAJrEPoMY3mES0-tFyzfEIlIC7sNF6CG9M_zJw',\n",
       "   'matchHistoryUri': '/v1/stats/player_history/NA1/47557253',\n",
       "   'profileIcon': 577}},\n",
       " {'participantId': 5,\n",
       "  'player': {'platformId': 'NA1',\n",
       "   'accountId': 'xi-9ZDkS9Y51yXqXq7cZm37U9dwQ5OqCCKVMUS-3ur6ozA',\n",
       "   'summonerName': 'SilentPeaShooter',\n",
       "   'summonerId': 'ZPvI6woW5vrpQ-ob3jx4vQMhAVtva3bcT-6bHcJl76WJDLo',\n",
       "   'currentPlatformId': 'NA1',\n",
       "   'currentAccountId': 'xi-9ZDkS9Y51yXqXq7cZm37U9dwQ5OqCCKVMUS-3ur6ozA',\n",
       "   'matchHistoryUri': '/v1/stats/player_history/NA1/47956190',\n",
       "   'profileIcon': 3}},\n",
       " {'participantId': 6,\n",
       "  'player': {'platformId': 'NA1',\n",
       "   'accountId': 'mBGz7J91KxyJEfIXdStM1pLGCbHLanSc-khfHI1FWaXOGG0',\n",
       "   'summonerName': 'Vithat',\n",
       "   'summonerId': '9KflcN4P4lDr5O-RVJu7WvPZPaB84KmXlRghOPCyq90cJY8',\n",
       "   'currentPlatformId': 'NA1',\n",
       "   'currentAccountId': 'mBGz7J91KxyJEfIXdStM1pLGCbHLanSc-khfHI1FWaXOGG0',\n",
       "   'matchHistoryUri': '/v1/stats/player_history/NA1/202245990',\n",
       "   'profileIcon': 692}},\n",
       " {'participantId': 7,\n",
       "  'player': {'platformId': 'NA1',\n",
       "   'accountId': 'lws6_6bK4pw_3unKExPjyZe0WeSxdKDDxWayLUIfCAY-PVM',\n",
       "   'summonerName': 'Thereisnospoon11',\n",
       "   'summonerId': 'WrOT-oB80TFl4_2Aw-HW0oJsaUXVirK8dAs6dht8iKoJO48',\n",
       "   'currentPlatformId': 'NA1',\n",
       "   'currentAccountId': 'lws6_6bK4pw_3unKExPjyZe0WeSxdKDDxWayLUIfCAY-PVM',\n",
       "   'matchHistoryUri': '/v1/stats/player_history/NA1/207487981',\n",
       "   'profileIcon': 589}},\n",
       " {'participantId': 8,\n",
       "  'player': {'platformId': 'NA1',\n",
       "   'accountId': '8uz-Dg2tuzx3AZPfivP9iiIzbxDFTdl63Z3Fpwsv9vJCflw',\n",
       "   'summonerName': 'Kedage',\n",
       "   'summonerId': '8ipDqAQ87mt6ZwWAZKGjorckDxFlIy2dUuJlyMznHOkJuGk',\n",
       "   'currentPlatformId': 'NA1',\n",
       "   'currentAccountId': '8uz-Dg2tuzx3AZPfivP9iiIzbxDFTdl63Z3Fpwsv9vJCflw',\n",
       "   'matchHistoryUri': '/v1/stats/player_history/NA1/201964846',\n",
       "   'profileIcon': 3859}},\n",
       " {'participantId': 9,\n",
       "  'player': {'platformId': 'NA',\n",
       "   'accountId': 'X_FS8nEzcDa1bJ1GAZ2hnaHojC9ZTiq_-JzBqqq2ktAzqg',\n",
       "   'summonerName': 'fjamg',\n",
       "   'summonerId': 'snIk3mc2B5duWryM8xb2G4BAsbgWS-Y_M2I8dtJilKbP-Ww',\n",
       "   'currentPlatformId': 'NA1',\n",
       "   'currentAccountId': 'X_FS8nEzcDa1bJ1GAZ2hnaHojC9ZTiq_-JzBqqq2ktAzqg',\n",
       "   'matchHistoryUri': '/v1/stats/player_history/NA/34735861',\n",
       "   'profileIcon': 3872}},\n",
       " {'participantId': 10,\n",
       "  'player': {'platformId': 'NA1',\n",
       "   'accountId': 'cawUXzyIYESdSIpWMX5ygSVGbn_1VBu1SNZqD61A5MUZag',\n",
       "   'summonerName': 'jenkinrocket',\n",
       "   'summonerId': 'k4j5feFzCzH7R98CGy0_sEfwli4c8NhTHjZLisJDWWlFKtU',\n",
       "   'currentPlatformId': 'NA1',\n",
       "   'currentAccountId': 'cawUXzyIYESdSIpWMX5ygSVGbn_1VBu1SNZqD61A5MUZag',\n",
       "   'matchHistoryUri': '/v1/stats/player_history/NA1/43215333',\n",
       "   'profileIcon': 4050}}]"
      ]
     },
     "execution_count": 22,
     "metadata": {},
     "output_type": "execute_result"
    }
   ],
   "source": [
    "\n",
    "\n",
    "    \n",
    "early = \"0-10\"\n",
    "mid = \"10-20\"\n",
    "late = \"20-30\"\n",
    "\n",
    "\n",
    "\n",
    "\n",
    "early_dmg_taken = []\n",
    "mid_dmg_taken = []\n",
    "late_dmg_taken = []\n",
    "\n",
    "role = []\n",
    "kills = []\n",
    "\n",
    "\n",
    "#values to store\n",
    "match_url = f\"https://na1.api.riotgames.com/lol/match/v4/matches/{match_ids[0]}?api_key={api_key}\"\n",
    "match_results = requests.get(match_url).json()\n",
    "match_results[\"participantIdentities\"]\n",
    "#function to find the participant id \n",
    "\n",
    "#needs to be written\n",
    "\n"
   ]
  },
  {
   "cell_type": "code",
   "execution_count": 1,
   "metadata": {},
   "outputs": [
    {
     "ename": "NameError",
     "evalue": "name 'match_results' is not defined",
     "output_type": "error",
     "traceback": [
      "\u001b[0;31m---------------------------------------------------------------------------\u001b[0m",
      "\u001b[0;31mNameError\u001b[0m                                 Traceback (most recent call last)",
      "\u001b[0;32m<ipython-input-1-450cb24fe017>\u001b[0m in \u001b[0;36m<module>\u001b[0;34m()\u001b[0m\n\u001b[0;32m----> 1\u001b[0;31m \u001b[0mmatch_results\u001b[0m\u001b[0;34m[\u001b[0m\u001b[0;34m\"participantIdentities\"\u001b[0m\u001b[0;34m]\u001b[0m\u001b[0;34m[\u001b[0m\u001b[0;34m\"particpantId\"\u001b[0m\u001b[0;34m]\u001b[0m\u001b[0;34m\u001b[0m\u001b[0;34m\u001b[0m\u001b[0m\n\u001b[0m",
      "\u001b[0;31mNameError\u001b[0m: name 'match_results' is not defined"
     ]
    }
   ],
   "source": [
    "match_results[\"participantIdentities\"][\"particpantId\"]"
   ]
  },
  {
   "cell_type": "code",
   "execution_count": 23,
   "metadata": {},
   "outputs": [
    {
     "ename": "NameError",
     "evalue": "name 'find_participant_id' is not defined",
     "output_type": "error",
     "traceback": [
      "\u001b[0;31m---------------------------------------------------------------------------\u001b[0m",
      "\u001b[0;31mNameError\u001b[0m                                 Traceback (most recent call last)",
      "\u001b[0;32m<ipython-input-23-819ac0f069ee>\u001b[0m in \u001b[0;36m<module>\u001b[0;34m()\u001b[0m\n\u001b[1;32m      6\u001b[0m     \u001b[0mmatch_results\u001b[0m \u001b[0;34m=\u001b[0m \u001b[0mrequests\u001b[0m\u001b[0;34m.\u001b[0m\u001b[0mget\u001b[0m\u001b[0;34m(\u001b[0m\u001b[0mmatch_url\u001b[0m\u001b[0;34m)\u001b[0m\u001b[0;34m.\u001b[0m\u001b[0mjson\u001b[0m\u001b[0;34m(\u001b[0m\u001b[0;34m)\u001b[0m\u001b[0;34m\u001b[0m\u001b[0;34m\u001b[0m\u001b[0m\n\u001b[1;32m      7\u001b[0m \u001b[0;34m\u001b[0m\u001b[0m\n\u001b[0;32m----> 8\u001b[0;31m     \u001b[0mpid\u001b[0m \u001b[0;34m=\u001b[0m \u001b[0mint\u001b[0m\u001b[0;34m(\u001b[0m\u001b[0mfind_participant_id\u001b[0m\u001b[0;34m(\u001b[0m\u001b[0;34m\"MoreFiero\"\u001b[0m\u001b[0;34m)\u001b[0m \u001b[0;34m-\u001b[0m \u001b[0;36m1\u001b[0m\u001b[0;34m)\u001b[0m\u001b[0;34m\u001b[0m\u001b[0;34m\u001b[0m\u001b[0m\n\u001b[0m\u001b[1;32m      9\u001b[0m     \u001b[0;32mtry\u001b[0m\u001b[0;34m:\u001b[0m\u001b[0;34m\u001b[0m\u001b[0;34m\u001b[0m\u001b[0m\n\u001b[1;32m     10\u001b[0m         \u001b[0mmatch_stats\u001b[0m \u001b[0;34m=\u001b[0m \u001b[0mmatch_results\u001b[0m\u001b[0;34m[\u001b[0m\u001b[0;34m\"participants\"\u001b[0m\u001b[0;34m]\u001b[0m\u001b[0;34m[\u001b[0m\u001b[0mpid\u001b[0m \u001b[0;34m-\u001b[0m \u001b[0;36m1\u001b[0m\u001b[0;34m]\u001b[0m\u001b[0;34m\u001b[0m\u001b[0;34m\u001b[0m\u001b[0m\n",
      "\u001b[0;31mNameError\u001b[0m: name 'find_participant_id' is not defined"
     ]
    }
   ],
   "source": [
    "creeps = []\n",
    "xp = []\n",
    "gold = []\n",
    "for match_id in match_ids:\n",
    "    match_url = f\"https://na1.api.riotgames.com/lol/match/v4/matches/{match_id}?api_key={api_key}\"\n",
    "    match_results = requests.get(match_url).json()\n",
    "    \n",
    "    \n",
    "    pid = int(find_participant_id(\"MoreFiero\") - 1)  \n",
    "    try:\n",
    "        match_stats = match_results[\"participants\"][pid - 1]\n",
    "        creeps.append(match_stats[\"timeline\"][\"creepsPerMinDeltas\"])\n",
    "        xp.append(match_stats[\"timeline\"][\"xpPerMinDeltas\"])\n",
    "        gold.append(match_stats[\"timeline\"][\"goldPerMinDeltas\"])    \n",
    "    except:\n",
    "        continue\n",
    "\n",
    "    \n",
    "    \n",
    "    \n",
    "    "
   ]
  },
  {
   "cell_type": "code",
   "execution_count": null,
   "metadata": {},
   "outputs": [],
   "source": [
    "morefiero = pd.DataFrame({\n",
    "    \"creeps\": creeps,\n",
    "    \"xp\": xp,\n",
    "    \"gold\": gold\n",
    "})\n",
    "morefiero[\"creeps\"][0]"
   ]
  },
  {
   "cell_type": "code",
   "execution_count": null,
   "metadata": {},
   "outputs": [],
   "source": [
    "for k,v in morefiero[\"creeps\"][0].items():\n",
    "    print(v)"
   ]
  },
  {
   "cell_type": "code",
   "execution_count": null,
   "metadata": {},
   "outputs": [],
   "source": [
    "sum_gold = 0\n",
    "for match_stat in doublelift[\"gold\"]:\n",
    "    gold_match = 0\n",
    "    for k,v in match_stat.items():\n",
    "        gold_match += v\n",
    "    sum_gold += gold_match\n",
    "doublelift_sum_gold = sum_gold\n",
    "doublelift_avg_gold = sum_gold / len(doublelift[\"gold\"])\n",
    "        \n",
    "    "
   ]
  },
  {
   "cell_type": "code",
   "execution_count": null,
   "metadata": {},
   "outputs": [],
   "source": [
    "print(doublelift_avg_creeps)\n",
    "print(doublelift_sum_creeps)\n",
    "print(morefiero_avg_creeps)\n",
    "print(morefiero_sum_creeps)"
   ]
  },
  {
   "cell_type": "code",
   "execution_count": null,
   "metadata": {},
   "outputs": [],
   "source": [
    "print(doublelift_avg_xp)\n",
    "print(doublelift_sum_xp)\n",
    "print(morefiero_avg_xp)\n",
    "print(morefiero_sum_xp)\n",
    "\n"
   ]
  },
  {
   "cell_type": "code",
   "execution_count": null,
   "metadata": {},
   "outputs": [],
   "source": []
  }
 ],
 "metadata": {
  "kernelspec": {
   "display_name": "Python 3",
   "language": "python",
   "name": "python3"
  },
  "language_info": {
   "codemirror_mode": {
    "name": "ipython",
    "version": 3
   },
   "file_extension": ".py",
   "mimetype": "text/x-python",
   "name": "python",
   "nbconvert_exporter": "python",
   "pygments_lexer": "ipython3",
   "version": "3.6.8"
  }
 },
 "nbformat": 4,
 "nbformat_minor": 2
}
