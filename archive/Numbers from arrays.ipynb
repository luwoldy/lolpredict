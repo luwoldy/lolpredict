{
 "cells": [
  {
   "cell_type": "code",
   "execution_count": null,
   "metadata": {},
   "outputs": [],
   "source": [
    "# average\n",
    "\n",
    "array = # the array\n",
    "\n",
    "average = np.mean(array)\n",
    "standard_dev = np.std(array)\n",
    "twostdlow = average - 2*standard_dev\n",
    "twostdhigh = average + 2*standard_dev\n",
    "lowest = np.min(array)\n",
    "highest = np.max(array)\n",
    "\n"
   ]
  }
 ],
 "metadata": {
  "kernelspec": {
   "display_name": "Python 3",
   "language": "python",
   "name": "python3"
  },
  "language_info": {
   "codemirror_mode": {
    "name": "ipython",
    "version": 3
   },
   "file_extension": ".py",
   "mimetype": "text/x-python",
   "name": "python",
   "nbconvert_exporter": "python",
   "pygments_lexer": "ipython3",
   "version": "3.6.8"
  }
 },
 "nbformat": 4,
 "nbformat_minor": 2
}
