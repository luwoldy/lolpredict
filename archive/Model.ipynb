{
 "cells": [
  {
   "cell_type": "code",
   "execution_count": 1,
   "metadata": {},
   "outputs": [],
   "source": [
    "# import all dependencies\n",
    "\n",
    "import matplotlib.pyplot as plt\n",
    "from sklearn.model_selection import train_test_split\n",
    "from sklearn.neighbors import KNeighborsClassifier\n",
    "import pandas as pd\n",
    "import pickle"
   ]
  },
  {
   "cell_type": "code",
   "execution_count": 2,
   "metadata": {},
   "outputs": [
    {
     "data": {
      "text/html": [
       "<div>\n",
       "<style scoped>\n",
       "    .dataframe tbody tr th:only-of-type {\n",
       "        vertical-align: middle;\n",
       "    }\n",
       "\n",
       "    .dataframe tbody tr th {\n",
       "        vertical-align: top;\n",
       "    }\n",
       "\n",
       "    .dataframe thead th {\n",
       "        text-align: right;\n",
       "    }\n",
       "</style>\n",
       "<table border=\"1\" class=\"dataframe\">\n",
       "  <thead>\n",
       "    <tr style=\"text-align: right;\">\n",
       "      <th></th>\n",
       "      <th>tier</th>\n",
       "      <th>rank</th>\n",
       "      <th>leaguePoints</th>\n",
       "      <th>wins</th>\n",
       "      <th>losses</th>\n",
       "      <th>veteran</th>\n",
       "      <th>inactive</th>\n",
       "      <th>hotStreak</th>\n",
       "      <th>freshBlood</th>\n",
       "    </tr>\n",
       "  </thead>\n",
       "  <tbody>\n",
       "    <tr>\n",
       "      <th>0</th>\n",
       "      <td>6</td>\n",
       "      <td>1</td>\n",
       "      <td>10</td>\n",
       "      <td>142</td>\n",
       "      <td>123</td>\n",
       "      <td>0</td>\n",
       "      <td>0</td>\n",
       "      <td>0</td>\n",
       "      <td>1</td>\n",
       "    </tr>\n",
       "    <tr>\n",
       "      <th>1</th>\n",
       "      <td>6</td>\n",
       "      <td>1</td>\n",
       "      <td>21</td>\n",
       "      <td>71</td>\n",
       "      <td>79</td>\n",
       "      <td>0</td>\n",
       "      <td>0</td>\n",
       "      <td>0</td>\n",
       "      <td>1</td>\n",
       "    </tr>\n",
       "    <tr>\n",
       "      <th>2</th>\n",
       "      <td>6</td>\n",
       "      <td>1</td>\n",
       "      <td>0</td>\n",
       "      <td>119</td>\n",
       "      <td>101</td>\n",
       "      <td>0</td>\n",
       "      <td>0</td>\n",
       "      <td>1</td>\n",
       "      <td>1</td>\n",
       "    </tr>\n",
       "    <tr>\n",
       "      <th>3</th>\n",
       "      <td>6</td>\n",
       "      <td>1</td>\n",
       "      <td>0</td>\n",
       "      <td>132</td>\n",
       "      <td>116</td>\n",
       "      <td>0</td>\n",
       "      <td>0</td>\n",
       "      <td>0</td>\n",
       "      <td>1</td>\n",
       "    </tr>\n",
       "    <tr>\n",
       "      <th>4</th>\n",
       "      <td>6</td>\n",
       "      <td>1</td>\n",
       "      <td>2</td>\n",
       "      <td>203</td>\n",
       "      <td>159</td>\n",
       "      <td>0</td>\n",
       "      <td>0</td>\n",
       "      <td>0</td>\n",
       "      <td>1</td>\n",
       "    </tr>\n",
       "  </tbody>\n",
       "</table>\n",
       "</div>"
      ],
      "text/plain": [
       "   tier  rank  leaguePoints  wins  losses  veteran  inactive  hotStreak  \\\n",
       "0     6     1            10   142     123        0         0          0   \n",
       "1     6     1            21    71      79        0         0          0   \n",
       "2     6     1             0   119     101        0         0          1   \n",
       "3     6     1             0   132     116        0         0          0   \n",
       "4     6     1             2   203     159        0         0          0   \n",
       "\n",
       "   freshBlood  \n",
       "0           1  \n",
       "1           1  \n",
       "2           1  \n",
       "3           1  \n",
       "4           1  "
      ]
     },
     "execution_count": 2,
     "metadata": {},
     "output_type": "execute_result"
    }
   ],
   "source": [
    "# pull in the data\n",
    "\n",
    "url = \"players.csv\"\n",
    "df = pd.read_csv(url)\n",
    "df.head()"
   ]
  },
  {
   "cell_type": "code",
   "execution_count": 3,
   "metadata": {},
   "outputs": [],
   "source": [
    "# defining the target\n",
    "\n",
    "target = df[\"tier\"]\n",
    "# target_names = "
   ]
  },
  {
   "cell_type": "code",
   "execution_count": 4,
   "metadata": {},
   "outputs": [
    {
     "data": {
      "text/html": [
       "<div>\n",
       "<style scoped>\n",
       "    .dataframe tbody tr th:only-of-type {\n",
       "        vertical-align: middle;\n",
       "    }\n",
       "\n",
       "    .dataframe tbody tr th {\n",
       "        vertical-align: top;\n",
       "    }\n",
       "\n",
       "    .dataframe thead th {\n",
       "        text-align: right;\n",
       "    }\n",
       "</style>\n",
       "<table border=\"1\" class=\"dataframe\">\n",
       "  <thead>\n",
       "    <tr style=\"text-align: right;\">\n",
       "      <th></th>\n",
       "      <th>leaguePoints</th>\n",
       "      <th>wins</th>\n",
       "      <th>losses</th>\n",
       "      <th>veteran</th>\n",
       "      <th>inactive</th>\n",
       "      <th>hotStreak</th>\n",
       "      <th>freshBlood</th>\n",
       "    </tr>\n",
       "  </thead>\n",
       "  <tbody>\n",
       "    <tr>\n",
       "      <th>0</th>\n",
       "      <td>10</td>\n",
       "      <td>142</td>\n",
       "      <td>123</td>\n",
       "      <td>0</td>\n",
       "      <td>0</td>\n",
       "      <td>0</td>\n",
       "      <td>1</td>\n",
       "    </tr>\n",
       "    <tr>\n",
       "      <th>1</th>\n",
       "      <td>21</td>\n",
       "      <td>71</td>\n",
       "      <td>79</td>\n",
       "      <td>0</td>\n",
       "      <td>0</td>\n",
       "      <td>0</td>\n",
       "      <td>1</td>\n",
       "    </tr>\n",
       "    <tr>\n",
       "      <th>2</th>\n",
       "      <td>0</td>\n",
       "      <td>119</td>\n",
       "      <td>101</td>\n",
       "      <td>0</td>\n",
       "      <td>0</td>\n",
       "      <td>1</td>\n",
       "      <td>1</td>\n",
       "    </tr>\n",
       "    <tr>\n",
       "      <th>3</th>\n",
       "      <td>0</td>\n",
       "      <td>132</td>\n",
       "      <td>116</td>\n",
       "      <td>0</td>\n",
       "      <td>0</td>\n",
       "      <td>0</td>\n",
       "      <td>1</td>\n",
       "    </tr>\n",
       "    <tr>\n",
       "      <th>4</th>\n",
       "      <td>2</td>\n",
       "      <td>203</td>\n",
       "      <td>159</td>\n",
       "      <td>0</td>\n",
       "      <td>0</td>\n",
       "      <td>0</td>\n",
       "      <td>1</td>\n",
       "    </tr>\n",
       "  </tbody>\n",
       "</table>\n",
       "</div>"
      ],
      "text/plain": [
       "   leaguePoints  wins  losses  veteran  inactive  hotStreak  freshBlood\n",
       "0            10   142     123        0         0          0           1\n",
       "1            21    71      79        0         0          0           1\n",
       "2             0   119     101        0         0          1           1\n",
       "3             0   132     116        0         0          0           1\n",
       "4             2   203     159        0         0          0           1"
      ]
     },
     "execution_count": 4,
     "metadata": {},
     "output_type": "execute_result"
    }
   ],
   "source": [
    "# remove the outcomes and a couple of other unwanted variables\n",
    "\n",
    "\n",
    "\n",
    "data = df.drop(\"tier\", axis=1)\n",
    "data = data.drop(\"rank\", axis=1)\n",
    "feature_names = data.columns\n",
    "data.head()"
   ]
  },
  {
   "cell_type": "code",
   "execution_count": 5,
   "metadata": {},
   "outputs": [],
   "source": [
    "# train the model using the meaning of life\n",
    "\n",
    "from sklearn.model_selection import train_test_split\n",
    "X_train, X_test, y_train, y_test = train_test_split(data, target, random_state=42)"
   ]
  },
  {
   "cell_type": "code",
   "execution_count": 6,
   "metadata": {},
   "outputs": [
    {
     "name": "stdout",
     "output_type": "stream",
     "text": [
      "k: 1, Train/Test Score: 1.000/0.769/0.231\n",
      "k: 3, Train/Test Score: 0.878/0.780/0.098\n",
      "k: 5, Train/Test Score: 0.853/0.784/0.068\n",
      "k: 7, Train/Test Score: 0.842/0.788/0.054\n",
      "k: 9, Train/Test Score: 0.830/0.793/0.037\n",
      "k: 11, Train/Test Score: 0.826/0.795/0.031\n",
      "k: 13, Train/Test Score: 0.821/0.795/0.026\n",
      "k: 15, Train/Test Score: 0.818/0.801/0.017\n",
      "k: 17, Train/Test Score: 0.817/0.803/0.014\n",
      "k: 19, Train/Test Score: 0.814/0.805/0.010\n",
      "k: 21, Train/Test Score: 0.809/0.807/0.002\n",
      "k: 23, Train/Test Score: 0.809/0.805/0.003\n",
      "k: 25, Train/Test Score: 0.811/0.809/0.002\n",
      "k: 27, Train/Test Score: 0.808/0.808/0.001\n",
      "k: 29, Train/Test Score: 0.809/0.809/-0.000\n",
      "k: 31, Train/Test Score: 0.807/0.806/0.001\n",
      "k: 33, Train/Test Score: 0.807/0.806/0.001\n",
      "k: 35, Train/Test Score: 0.808/0.806/0.002\n",
      "k: 37, Train/Test Score: 0.808/0.803/0.004\n",
      "k: 39, Train/Test Score: 0.806/0.805/0.001\n"
     ]
    },
    {
     "data": {
      "image/png": "[encoded data removed]",
      "text/plain": [
       "<Figure size 432x288 with 1 Axes>"
      ]
     },
     "metadata": {
      "needs_background": "light"
     },
     "output_type": "display_data"
    },
    {
     "data": {
      "text/plain": [
       "[0.7691680261011419,\n",
       " 0.7801794453507341,\n",
       " 0.784257748776509,\n",
       " 0.7879282218597063,\n",
       " 0.7932300163132137,\n",
       " 0.7948613376835236,\n",
       " 0.7952691680261011,\n",
       " 0.8013866231647635,\n",
       " 0.802610114192496,\n",
       " 0.8046492659053833,\n",
       " 0.8066884176182708,\n",
       " 0.8050570962479608,\n",
       " 0.8091353996737357,\n",
       " 0.8075040783034257,\n",
       " 0.8087275693311582,\n",
       " 0.8062805872756933,\n",
       " 0.8058727569331158,\n",
       " 0.8062805872756933,\n",
       " 0.8034257748776509,\n",
       " 0.8046492659053833]"
      ]
     },
     "execution_count": 6,
     "metadata": {},
     "output_type": "execute_result"
    }
   ],
   "source": [
    "# Loop through different k values to see which has the highest accuracy\n",
    "\n",
    "train_scores = []\n",
    "test_scores = []\n",
    "differences = []\n",
    "for k in range(1, 40, 2):\n",
    "    knn = KNeighborsClassifier(n_neighbors=k)\n",
    "    knn.fit(X_train, y_train)\n",
    "    train_score = knn.score(X_train, y_train)\n",
    "    test_score = knn.score(X_test, y_test)\n",
    "    train_scores.append(train_score)\n",
    "    test_scores.append(test_score)\n",
    "    difference = knn.score(X_train, y_train) - knn.score(X_test, y_test)\n",
    "    differences.append(difference)\n",
    "    print(f\"k: {k}, Train/Test Score: {train_score:.3f}/{test_score:.3f}/{difference:.3f}\")\n",
    "    \n",
    "# consistency     \n",
    "# for x in differences:\n",
    "#     consistent = (x + 1) - x \n",
    "    \n",
    "    \n",
    "plt.plot(range(1, 40, 2), train_scores, marker='o')\n",
    "plt.plot(range(1, 40, 2), test_scores, marker=\"x\")\n",
    "plt.xlabel(\"k neighbors\")\n",
    "plt.ylabel(\"Testing accuracy Score\")\n",
    "plt.show()\n",
    "\n",
    "\n",
    "train_scores\n",
    "test_scores\n",
    "    "
   ]
  },
  {
   "cell_type": "code",
   "execution_count": 7,
   "metadata": {},
   "outputs": [
    {
     "name": "stdout",
     "output_type": "stream",
     "text": [
      "k=21 Test Acc: 0.807\n"
     ]
    }
   ],
   "source": [
    "# Need to determine the best K for this dataset\n",
    "chosenk = 21\n",
    "\n",
    "knn = KNeighborsClassifier(n_neighbors=chosenk)\n",
    "knn.fit(X_train, y_train)\n",
    "print(f'k={chosenk} Test Acc: %.3f' % knn.score(X_test, y_test))"
   ]
  },
  {
   "cell_type": "code",
   "execution_count": null,
   "metadata": {},
   "outputs": [],
   "source": []
  },
  {
   "cell_type": "code",
   "execution_count": 8,
   "metadata": {},
   "outputs": [],
   "source": [
    "# save the model\n",
    "import pickle \n",
    "  \n",
    "# Save the trained model as a pickle string. \n",
    "\n",
    "filename = 'pickledModel.pkl'\n",
    "outfile = open(filename,'wb')\n",
    "pickle.dump(knn,outfile)\n",
    "outfile.close()\n",
    "\n",
    "######## START HERE ######### review this!!\n",
    "\n",
    "# saved_model = pickle.dumps(knn) \n",
    "# filename = 'finalized_model.sav'\n",
    "# pickle.dump(model, open(filename, 'wb'))"
   ]
  },
  {
   "cell_type": "code",
   "execution_count": null,
   "metadata": {},
   "outputs": [],
   "source": []
  }
 ],
 "metadata": {
  "kernelspec": {
   "display_name": "Python 3",
   "language": "python",
   "name": "python3"
  },
  "language_info": {
   "codemirror_mode": {
    "name": "ipython",
    "version": 3
   },
   "file_extension": ".py",
   "mimetype": "text/x-python",
   "name": "python",
   "nbconvert_exporter": "python",
   "pygments_lexer": "ipython3",
   "version": "3.6.8"
  }
 },
 "nbformat": 4,
 "nbformat_minor": 2
}
