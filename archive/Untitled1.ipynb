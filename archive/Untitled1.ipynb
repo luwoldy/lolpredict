{
 "cells": [
  {
   "cell_type": "code",
   "execution_count": 6,
   "metadata": {},
   "outputs": [
    {
     "data": {
      "text/html": [
       "<div>\n",
       "<style scoped>\n",
       "    .dataframe tbody tr th:only-of-type {\n",
       "        vertical-align: middle;\n",
       "    }\n",
       "\n",
       "    .dataframe tbody tr th {\n",
       "        vertical-align: top;\n",
       "    }\n",
       "\n",
       "    .dataframe thead th {\n",
       "        text-align: right;\n",
       "    }\n",
       "</style>\n",
       "<table border=\"1\" class=\"dataframe\">\n",
       "  <thead>\n",
       "    <tr style=\"text-align: right;\">\n",
       "      <th></th>\n",
       "      <th>Unnamed: 0</th>\n",
       "      <th>creeps</th>\n",
       "      <th>xp</th>\n",
       "      <th>gold</th>\n",
       "    </tr>\n",
       "  </thead>\n",
       "  <tbody>\n",
       "    <tr>\n",
       "      <th>0</th>\n",
       "      <td>0</td>\n",
       "      <td>{'10-20': 3.5, '0-10': 5.5, '30-end': 4.5, '20...</td>\n",
       "      <td>{'10-20': 343.9, '0-10': 473.6, '30-end': 633....</td>\n",
       "      <td>{'10-20': 327.79999999999995, '0-10': 247.8999...</td>\n",
       "    </tr>\n",
       "    <tr>\n",
       "      <th>1</th>\n",
       "      <td>1</td>\n",
       "      <td>{'10-20': 0.9, '0-10': 1.2}</td>\n",
       "      <td>{'10-20': 992.7, '0-10': 636.4000000000001}</td>\n",
       "      <td>{'10-20': 485.8, '0-10': 468.6}</td>\n",
       "    </tr>\n",
       "    <tr>\n",
       "      <th>2</th>\n",
       "      <td>2</td>\n",
       "      <td>{'10-20': 1.1, '0-10': 0.1, '30-end': 4.8, '20...</td>\n",
       "      <td>{'10-20': 491.8, '0-10': 282.5, '30-end': 540,...</td>\n",
       "      <td>{'10-20': 459.3, '0-10': 258.4, '30-end': 517,...</td>\n",
       "    </tr>\n",
       "    <tr>\n",
       "      <th>3</th>\n",
       "      <td>3</td>\n",
       "      <td>{'10-20': 3.5, '0-10': 4.1}</td>\n",
       "      <td>{'10-20': 397.5, '0-10': 400.3}</td>\n",
       "      <td>{'10-20': 333.29999999999995, '0-10': 223.8}</td>\n",
       "    </tr>\n",
       "    <tr>\n",
       "      <th>4</th>\n",
       "      <td>4</td>\n",
       "      <td>{'10-20': 2.2, '0-10': 0.9}</td>\n",
       "      <td>{'10-20': 1072, '0-10': 813.2}</td>\n",
       "      <td>{'10-20': 575, '0-10': 517.4}</td>\n",
       "    </tr>\n",
       "  </tbody>\n",
       "</table>\n",
       "</div>"
      ],
      "text/plain": [
       "   Unnamed: 0                                             creeps  \\\n",
       "0           0  {'10-20': 3.5, '0-10': 5.5, '30-end': 4.5, '20...   \n",
       "1           1                        {'10-20': 0.9, '0-10': 1.2}   \n",
       "2           2  {'10-20': 1.1, '0-10': 0.1, '30-end': 4.8, '20...   \n",
       "3           3                        {'10-20': 3.5, '0-10': 4.1}   \n",
       "4           4                        {'10-20': 2.2, '0-10': 0.9}   \n",
       "\n",
       "                                                  xp  \\\n",
       "0  {'10-20': 343.9, '0-10': 473.6, '30-end': 633....   \n",
       "1        {'10-20': 992.7, '0-10': 636.4000000000001}   \n",
       "2  {'10-20': 491.8, '0-10': 282.5, '30-end': 540,...   \n",
       "3                    {'10-20': 397.5, '0-10': 400.3}   \n",
       "4                     {'10-20': 1072, '0-10': 813.2}   \n",
       "\n",
       "                                                gold  \n",
       "0  {'10-20': 327.79999999999995, '0-10': 247.8999...  \n",
       "1                    {'10-20': 485.8, '0-10': 468.6}  \n",
       "2  {'10-20': 459.3, '0-10': 258.4, '30-end': 517,...  \n",
       "3       {'10-20': 333.29999999999995, '0-10': 223.8}  \n",
       "4                      {'10-20': 575, '0-10': 517.4}  "
      ]
     },
     "execution_count": 6,
     "metadata": {},
     "output_type": "execute_result"
    }
   ],
   "source": [
    "import pandas as pd\n",
    "import numpy\n",
    "mfdf = pd.read_csv(\"morefiero.csv\")\n",
    "mfdf.head()"
   ]
  },
  {
   "cell_type": "code",
   "execution_count": null,
   "metadata": {},
   "outputs": [],
   "source": []
  }
 ],
 "metadata": {
  "kernelspec": {
   "display_name": "Python 3",
   "language": "python",
   "name": "python3"
  },
  "language_info": {
   "codemirror_mode": {
    "name": "ipython",
    "version": 3
   },
   "file_extension": ".py",
   "mimetype": "text/x-python",
   "name": "python",
   "nbconvert_exporter": "python",
   "pygments_lexer": "ipython3",
   "version": "3.6.6"
  }
 },
 "nbformat": 4,
 "nbformat_minor": 2
}
